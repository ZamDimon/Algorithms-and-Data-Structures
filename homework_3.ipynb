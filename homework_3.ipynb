{
 "cells": [
  {
   "cell_type": "code",
   "execution_count": 10,
   "id": "f3804196-b4f5-4bef-85c8-366b805e6819",
   "metadata": {},
   "outputs": [],
   "source": [
    "import turtle as t\n",
    "import random as r\n",
    "\n",
    "t.shape(\"turtle\")\n",
    "t.color(\"red\")\n",
    "t.delay(5)\n",
    "\n",
    "for i in range(100) :\n",
    "    d = r.random()\n",
    "    step = r.random()\n",
    "    \n",
    "    if d < 1/2:\n",
    "        t.left(360*d)\n",
    "    else:\n",
    "        t.right(360*(1-d))\n",
    "        t.forward(100*step)\n",
    "t.mainloop()"
   ]
  }
 ],
 "metadata": {
  "kernelspec": {
   "display_name": "newest",
   "language": "python",
   "name": "newest"
  },
  "language_info": {
   "codemirror_mode": {
    "name": "ipython",
    "version": 3
   },
   "file_extension": ".py",
   "mimetype": "text/x-python",
   "name": "python",
   "nbconvert_exporter": "python",
   "pygments_lexer": "ipython3",
   "version": "3.10.4"
  }
 },
 "nbformat": 4,
 "nbformat_minor": 5
}
